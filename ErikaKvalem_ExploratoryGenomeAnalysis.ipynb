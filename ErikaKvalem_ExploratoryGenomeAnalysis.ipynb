{
 "cells": [
  {
   "cell_type": "markdown",
   "metadata": {},
   "source": [
    "# EDA of human genome \n",
    "\n",
    "The aim of this code is to analize the genome of a real human to be able to predict the chances of the person to develop one of the top 10 world causes of death (ischaemic heart disease, stroke, chronic obstructive pulmonary disease ... ) \n",
    "\n",
    "\n",
    "\n"
   ]
  },
  {
   "cell_type": "markdown",
   "metadata": {},
   "source": [
    "## Why ? \n",
    "\n",
    "In 2019, the top 10 causes of death accounted for 55% of the 55.4 million deaths worldwide.\n",
    "\n",
    "The top global causes of death, in order of total number of lives lost, are associated with three broad topics: **cardiovascular** (ischaemic heart disease, stroke), **respiratory** (chronic obstructive pulmonary disease, lower respiratory infections) and **neonatal conditions** – which include birth asphyxia and birth trauma, neonatal sepsis and infections, and preterm birth complications.\n",
    "\n",
    "Causes of death can be grouped into four categories: **communicable**(infectious and parasitic diseases and maternal, **perinatal** and nutritional conditions), **noncommunicable** (chronic) and **injuries**.\n",
    "\n",
    "[Information from World Health Organization](https://www.who.int/news-room/fact-sheets/detail/the-top-10-causes-of-death)"
   ]
  },
  {
   "cell_type": "markdown",
   "metadata": {},
   "source": [
    "### Business case: Prevention avoids cost\n",
    "\n",
    "#### Only heart disease:\n",
    "If you exercise, eat right, and follow other heart-friendly habits, you're probably less likely to end up in the hospital with a heart problem. And — no surprise here — that translates to far lower health care costs. The average hospital charge for a heart operation or related procedure is about $85,000.\n",
    "\n",
    "If all Medicare beneficiaries followed five of seven key heart-healthy habits to reduce cardiovascular disease, it would save more than **$41 billion a year in Medicare costs**, the study authors estimated ( The study, published in the Feb. 1, 2017, Journal of the American Heart Association focused on Medicare costs )\n",
    "\n",
    "[Source of information: Harvard Health Publishing](https://www.health.harvard.edu/heart-health/the-value-of-prevention)\n",
    "\n",
    "#### Chronic disease\n",
    "- Thomas J. Flottemesch of HealthPartners Research Foundation suggests that preventive services at the primary and secondary levels yields mixed results in terms of net medical savings to the healthcare system, highlighting the importance of expanding the conversation on prevention beyond costs alone to include value and benefits not captured by pure dollars.\n",
    "\n",
    "\n",
    "- Although **primary preventive services**, such as daily aspirin use and alcohol and tobacco use screenings, could have yielded **net savings of nearly 1.5 billion dollars** in his analysis, the use of **secondary preventive services**, such as mammograms and depression screenings, actually results in **net costs of almost 2 billion dollars**. He also acknowledges that certain costs could have been omitted or double-counted due to insufficient data. Flottemesch concludes that, while different types of evidence-based clinical preventive services have the potential for differential impacts depending upon current delivery rates and target populations, **evidence-based preventive services should be embraced, and their use encouraged, because of their positive health impact.**\n",
    "\n",
    "\n",
    "- Michael P. Pignone of the University of North Carolina-Chapel Hill focuses on **tertiary preventive care**, explaining that individuals with one or more **chronic conditions** account for approximately **1.5 trillion** in healthcare spending per year. Focusing on high-risk patients with chronic conditions offers high savings and cost-effectiveness margins because the likelihood of needing high-cost treatments are far greater than the costs incurred by provision of preventive services, he argues. Based on his calculations, widespread use of effective interventions, such as disease management, postdischarge care, and case management for key chronic conditions could produce **substantial savings**, perhaps as much as **45 billion per year**. \n",
    "\n",
    "\n",
    "- However, he also explains that translating successful interventions to new populations and settings and realizing savings may be difficult because of the differing organizational and population needs of individual institutions. **Despite these limitations, he ultimately suggests that better use of effective tertiary prevention possesses strong potential for improving health and reducing spending.**"
   ]
  },
  {
   "cell_type": "markdown",
   "metadata": {},
   "source": [
    "# How? \n",
    "\n",
    "### 23andMe and MyHeritage\n",
    "\n",
    "- 23andMe is a privately held personal genomics and biotechnology company based in Sunnyvale, California. It is best known for providing a direct-to-consumer genetic testing service in which customers provide a saliva sample that is laboratory analysed, using single nucleotide polymorphism genotyping, to generate reports relating to the customer's ancestry and genetic predispositions to health-related topics. The company's name is derived from the fact that there are 23 pairs of chromosomes in a normal human cell.\n",
    "\n",
    "\n",
    "- Genomics is a branch of molecular biology that involves structure, function, variation, evolution and mapping of genomes. There are several companies offering next generation sequencing of human genomes from complete 3 billion base-pairs to a few thousand Phenotype SNPs. I’ve used 23andMe (using Illumina HumanOmniExpress-24) for my DNA’s Phenotype SNPs.\n",
    "\n",
    "\n",
    "- The company had a previously fraught relationship with the United States Food and Drug Administration (FDA) due to its genetic health tests, but as of October 2015, DNA tests ordered in the US include a revised health component, per FDA approval. 23andMe has been selling a product with both ancestry and health-related components in Canada since October 2014, and in the UK since December 2014.\n",
    "\n",
    "\n",
    "- In 2007, 23andMe became the first company to begin offering autosomal DNA testing for ancestry, which all other major companies now use. Its saliva-based direct-to-consumer genetic testing business was named \"Invention of the Year\" by Time magazine in 2008."
   ]
  },
  {
   "cell_type": "markdown",
   "metadata": {},
   "source": [
    "### Kaggle DataSet My complete Genome and Dani Darko - Myheritage DNA \n",
    "\n",
    "- 6,000 Base-Pairs of Phenotype SNPs - Complete Raw Data\n",
    "\n",
    "- [Zeeshan-ul-hassan Usmani’s Genome Phenotype SNPs Raw]Data(https://www.kaggle.com/zusmani/mygenome/code)\n",
    "\n",
    "I am sharing the entire raw dataset here for the international research community for following reasons:\n",
    "\n",
    "I am a firm believer in open dataset, transparency, and the right to learn, research, explores, and educate. I do not want to restrict the knowledge flow for mere privacy concerns. Hence, I am offering my entire DNA raw data for the world to use for research without worrying about privacy. I call it copyleft dataset.\n",
    "\n",
    "Most of available test datasets for research come from western world and we don’t see much from under-developing countries. I thought to share my data to bridge the gap and I expect others to follow the trend.\n",
    "\n",
    "I would be the happiest man on earth, if a life can be saved, knowledge can be learned, an idea can be explore, or a fact can be found using my DNA data. Please use it the way you will.\n",
    "\n",
    "The research community is still progressively working in this domain and it is agreed upon by professionals that genomics is still in its infancy. You now have the chance to explore this novel domain via the dataset and become one of the few genomics early adopters.\n",
    "\n",
    "The data-set is a complete genome extracted from www.23andme.com and is represented as a sequence of SNPs represented by the following symbols: A (adenine), C (cytosine), G (guanine), T (thymine), D (base deletions), I (base insertions), and '_' or '-' if the SNP for particular location is not accessible. It contains Chromosomes 1-22, X, Y, and mitochondrial DNA.\n",
    "\n",
    "#### Content Zeeshan-ul-hassan Usmani’s Genome\n",
    "\n",
    "- Name: Zeeshan-ul-hassan Usmani\n",
    "\n",
    "- Age: 38 Years\n",
    "\n",
    "- Country of Birth: Pakistan\n",
    "\n",
    "- Country of Ancestors: India (Utter Pradesh - UP)\n",
    "\n",
    "- File: GenomeZeeshanUsmani.csv\n",
    "\n",
    "- Size: 15 MB\n",
    "\n",
    "- Sources: 23andMe Personalized Genome Report\n",
    "\n",
    "- A complete list of the exact SNPs (base pairs) available and their data-set index can be found at\n",
    "https://api.23andme.com/res/txt/snps.b4e00fe1db50.data\n",
    "\n",
    "- For more information about how the data-set was extracted follow https://api.23andme.com/docs/reference/#genomes\n",
    "\n",
    "- Moreover, for a more detailed understanding of the data-set content please acquaint yourself with the description of https://api.23andme.com/docs/reference/#genotypes\n",
    "\n",
    "\n",
    "#### Concent Dani Darko\n",
    "\n",
    "- Name: Daniel Darko \n",
    "\n",
    "- Age: \n",
    "\n",
    "- Country of Birth : Spain\n",
    "\n",
    "- Country of ancestors: \n",
    "\n",
    "- File: genome_DanielDarko.csv\n",
    "\n",
    "- A complete list of the exact SNPs (base pairs) was available after DNA analysis at [my-heritage](https://www.myheritage.es/)\n",
    "\n",
    "\n",
    "\n",
    "#### Acknowledgements\n",
    "Users are allowed to use, copy, distribute and cite the dataset as follows: “Zeeshan-ul-hassan Usmani, Genome Phenotype SNPS Raw Data File by 23andMe, Kaggle Dataset Repository, Jan 25, 2017.”\n",
    "\n",
    "#### Useful Links\n",
    "You may use the following human genome database sites for help:\n",
    "\n",
    "GenBank - https://www.ncbi.nlm.nih.gov/genbank/\n",
    "The Human Genome Project - https://www.genome.gov/hgp/\n",
    "Genomes OnLine Database (GOLD) - https://gold.jgi.doe.gov\n",
    "Complete Genomics - http://www.completegenomics.com/public-data/\n",
    "Inspiration\n",
    "Some ideas worth exploring:\n",
    "\n",
    "#### Is the individual in question more susceptible to cancer?\n",
    "Does he tend to gain weight?\n",
    "Where is his place of origin?\n",
    "Which gene determines certain biological feature (cancer susceptibility, fat generation rate, hair color etc.\n",
    "How does this phenotype SNPs compare with other similar datasets from the western-world?\n",
    "What would be the likely cause of death for this person?\n",
    "What are the most likely diseases/illnesses this person is going to face in lifetime?\n",
    "What is unique about this dataset?\n",
    "What else you can extract from this dataset when it comes to personal trait, intelligence level, ancestry and body makeup?\n",
    "Sample Reports\n",
    "Please check out following reports to understand what can be done with this data\n",
    "\n",
    "#### Ancestry \n",
    "https://www.23andme.com/published-report/eeb4f9bbd6b5474f/?share_id=f6c5562848e84586\n",
    "\n",
    "#### Weight Report \n",
    "https://you.23andme.com/published/reports/65c9af9f8223456d/?share_id=0126f129e4f3458b"
   ]
  },
  {
   "cell_type": "code",
   "execution_count": 1,
   "metadata": {},
   "outputs": [],
   "source": [
    "# Import libraries\n",
    "\n",
    "import pandas as pd\n"
   ]
  },
  {
   "cell_type": "markdown",
   "metadata": {},
   "source": [
    "# EDA "
   ]
  },
  {
   "cell_type": "markdown",
   "metadata": {},
   "source": [
    "- Reading the file"
   ]
  },
  {
   "cell_type": "code",
   "execution_count": 2,
   "metadata": {},
   "outputs": [
    {
     "name": "stderr",
     "output_type": "stream",
     "text": [
      "/opt/anaconda3/lib/python3.8/site-packages/IPython/core/interactiveshell.py:3071: DtypeWarning: Columns (1) have mixed types.Specify dtype option on import or set low_memory=False.\n",
      "  has_raised = await self.run_ast_nodes(code_ast.body, cell_name,\n"
     ]
    }
   ],
   "source": [
    "genome = pd.read_csv(\"genome_zeeshan_usmani.csv\")"
   ]
  },
  {
   "cell_type": "code",
   "execution_count": 3,
   "metadata": {},
   "outputs": [],
   "source": [
    "genome_d = pd.read_csv(\"genome_DanielDarko.csv\", error_bad_lines=False, header=0, sep = \";\")"
   ]
  },
  {
   "cell_type": "markdown",
   "metadata": {},
   "source": [
    "- Exploring the file"
   ]
  },
  {
   "cell_type": "code",
   "execution_count": 4,
   "metadata": {},
   "outputs": [
    {
     "data": {
      "text/html": [
       "<div>\n",
       "<style scoped>\n",
       "    .dataframe tbody tr th:only-of-type {\n",
       "        vertical-align: middle;\n",
       "    }\n",
       "\n",
       "    .dataframe tbody tr th {\n",
       "        vertical-align: top;\n",
       "    }\n",
       "\n",
       "    .dataframe thead th {\n",
       "        text-align: right;\n",
       "    }\n",
       "</style>\n",
       "<table border=\"1\" class=\"dataframe\">\n",
       "  <thead>\n",
       "    <tr style=\"text-align: right;\">\n",
       "      <th></th>\n",
       "      <th># rsid</th>\n",
       "      <th>chromosome</th>\n",
       "      <th>position</th>\n",
       "      <th>genotype</th>\n",
       "    </tr>\n",
       "  </thead>\n",
       "  <tbody>\n",
       "    <tr>\n",
       "      <th>0</th>\n",
       "      <td>rs12564807</td>\n",
       "      <td>1</td>\n",
       "      <td>734462</td>\n",
       "      <td>AA</td>\n",
       "    </tr>\n",
       "    <tr>\n",
       "      <th>1</th>\n",
       "      <td>rs3131972</td>\n",
       "      <td>1</td>\n",
       "      <td>752721</td>\n",
       "      <td>AG</td>\n",
       "    </tr>\n",
       "    <tr>\n",
       "      <th>2</th>\n",
       "      <td>rs148828841</td>\n",
       "      <td>1</td>\n",
       "      <td>760998</td>\n",
       "      <td>AC</td>\n",
       "    </tr>\n",
       "    <tr>\n",
       "      <th>3</th>\n",
       "      <td>rs12124819</td>\n",
       "      <td>1</td>\n",
       "      <td>776546</td>\n",
       "      <td>AA</td>\n",
       "    </tr>\n",
       "    <tr>\n",
       "      <th>4</th>\n",
       "      <td>rs115093905</td>\n",
       "      <td>1</td>\n",
       "      <td>787173</td>\n",
       "      <td>GG</td>\n",
       "    </tr>\n",
       "  </tbody>\n",
       "</table>\n",
       "</div>"
      ],
      "text/plain": [
       "        # rsid chromosome  position genotype\n",
       "0   rs12564807          1    734462       AA\n",
       "1    rs3131972          1    752721       AG\n",
       "2  rs148828841          1    760998       AC\n",
       "3   rs12124819          1    776546       AA\n",
       "4  rs115093905          1    787173       GG"
      ]
     },
     "execution_count": 4,
     "metadata": {},
     "output_type": "execute_result"
    }
   ],
   "source": [
    "genome.head()"
   ]
  },
  {
   "cell_type": "code",
   "execution_count": 5,
   "metadata": {},
   "outputs": [],
   "source": [
    "genome_d.rename({'result': 'genotype'}, axis=1, inplace=True)"
   ]
  },
  {
   "cell_type": "code",
   "execution_count": 6,
   "metadata": {},
   "outputs": [
    {
     "data": {
      "text/html": [
       "<div>\n",
       "<style scoped>\n",
       "    .dataframe tbody tr th:only-of-type {\n",
       "        vertical-align: middle;\n",
       "    }\n",
       "\n",
       "    .dataframe tbody tr th {\n",
       "        vertical-align: top;\n",
       "    }\n",
       "\n",
       "    .dataframe thead th {\n",
       "        text-align: right;\n",
       "    }\n",
       "</style>\n",
       "<table border=\"1\" class=\"dataframe\">\n",
       "  <thead>\n",
       "    <tr style=\"text-align: right;\">\n",
       "      <th></th>\n",
       "      <th># rsid</th>\n",
       "      <th>chromosome</th>\n",
       "      <th>position</th>\n",
       "      <th>genotype</th>\n",
       "    </tr>\n",
       "  </thead>\n",
       "  <tbody>\n",
       "    <tr>\n",
       "      <th>0</th>\n",
       "      <td>rs547237130</td>\n",
       "      <td>1</td>\n",
       "      <td>72526</td>\n",
       "      <td>AA</td>\n",
       "    </tr>\n",
       "    <tr>\n",
       "      <th>1</th>\n",
       "      <td>rs562180473</td>\n",
       "      <td>1</td>\n",
       "      <td>565703</td>\n",
       "      <td>AA</td>\n",
       "    </tr>\n",
       "    <tr>\n",
       "      <th>2</th>\n",
       "      <td>rs575203260</td>\n",
       "      <td>1</td>\n",
       "      <td>567693</td>\n",
       "      <td>TT</td>\n",
       "    </tr>\n",
       "    <tr>\n",
       "      <th>3</th>\n",
       "      <td>rs3131972</td>\n",
       "      <td>1</td>\n",
       "      <td>752721</td>\n",
       "      <td>GG</td>\n",
       "    </tr>\n",
       "    <tr>\n",
       "      <th>4</th>\n",
       "      <td>rs200599638</td>\n",
       "      <td>1</td>\n",
       "      <td>752918</td>\n",
       "      <td>GG</td>\n",
       "    </tr>\n",
       "  </tbody>\n",
       "</table>\n",
       "</div>"
      ],
      "text/plain": [
       "        # rsid chromosome  position genotype\n",
       "0  rs547237130          1     72526       AA\n",
       "1  rs562180473          1    565703       AA\n",
       "2  rs575203260          1    567693       TT\n",
       "3    rs3131972          1    752721       GG\n",
       "4  rs200599638          1    752918       GG"
      ]
     },
     "execution_count": 6,
     "metadata": {},
     "output_type": "execute_result"
    }
   ],
   "source": [
    "genome_d.head()"
   ]
  },
  {
   "cell_type": "code",
   "execution_count": 7,
   "metadata": {},
   "outputs": [
    {
     "data": {
      "text/html": [
       "<div>\n",
       "<style scoped>\n",
       "    .dataframe tbody tr th:only-of-type {\n",
       "        vertical-align: middle;\n",
       "    }\n",
       "\n",
       "    .dataframe tbody tr th {\n",
       "        vertical-align: top;\n",
       "    }\n",
       "\n",
       "    .dataframe thead th {\n",
       "        text-align: right;\n",
       "    }\n",
       "</style>\n",
       "<table border=\"1\" class=\"dataframe\">\n",
       "  <thead>\n",
       "    <tr style=\"text-align: right;\">\n",
       "      <th></th>\n",
       "      <th># rsid</th>\n",
       "      <th>chromosome</th>\n",
       "      <th>position</th>\n",
       "      <th>genotype</th>\n",
       "    </tr>\n",
       "  </thead>\n",
       "  <tbody>\n",
       "    <tr>\n",
       "      <th>610539</th>\n",
       "      <td>i4000693</td>\n",
       "      <td>MT</td>\n",
       "      <td>16524</td>\n",
       "      <td>A</td>\n",
       "    </tr>\n",
       "    <tr>\n",
       "      <th>610540</th>\n",
       "      <td>i4000757</td>\n",
       "      <td>MT</td>\n",
       "      <td>16526</td>\n",
       "      <td>G</td>\n",
       "    </tr>\n",
       "    <tr>\n",
       "      <th>610541</th>\n",
       "      <td>i4990307</td>\n",
       "      <td>MT</td>\n",
       "      <td>16527</td>\n",
       "      <td>C</td>\n",
       "    </tr>\n",
       "    <tr>\n",
       "      <th>610542</th>\n",
       "      <td>i4000756</td>\n",
       "      <td>MT</td>\n",
       "      <td>16540</td>\n",
       "      <td>C</td>\n",
       "    </tr>\n",
       "    <tr>\n",
       "      <th>610543</th>\n",
       "      <td>i3001931</td>\n",
       "      <td>MT</td>\n",
       "      <td>16547</td>\n",
       "      <td>C</td>\n",
       "    </tr>\n",
       "  </tbody>\n",
       "</table>\n",
       "</div>"
      ],
      "text/plain": [
       "          # rsid chromosome  position genotype\n",
       "610539  i4000693         MT     16524        A\n",
       "610540  i4000757         MT     16526        G\n",
       "610541  i4990307         MT     16527        C\n",
       "610542  i4000756         MT     16540        C\n",
       "610543  i3001931         MT     16547        C"
      ]
     },
     "execution_count": 7,
     "metadata": {},
     "output_type": "execute_result"
    }
   ],
   "source": [
    "genome.tail()"
   ]
  },
  {
   "cell_type": "code",
   "execution_count": 8,
   "metadata": {},
   "outputs": [
    {
     "data": {
      "text/html": [
       "<div>\n",
       "<style scoped>\n",
       "    .dataframe tbody tr th:only-of-type {\n",
       "        vertical-align: middle;\n",
       "    }\n",
       "\n",
       "    .dataframe tbody tr th {\n",
       "        vertical-align: top;\n",
       "    }\n",
       "\n",
       "    .dataframe thead th {\n",
       "        text-align: right;\n",
       "    }\n",
       "</style>\n",
       "<table border=\"1\" class=\"dataframe\">\n",
       "  <thead>\n",
       "    <tr style=\"text-align: right;\">\n",
       "      <th></th>\n",
       "      <th># rsid</th>\n",
       "      <th>chromosome</th>\n",
       "      <th>position</th>\n",
       "      <th>genotype</th>\n",
       "    </tr>\n",
       "  </thead>\n",
       "  <tbody>\n",
       "    <tr>\n",
       "      <th>609341</th>\n",
       "      <td>rs796720893</td>\n",
       "      <td>Y</td>\n",
       "      <td>58994369</td>\n",
       "      <td>GG</td>\n",
       "    </tr>\n",
       "    <tr>\n",
       "      <th>609342</th>\n",
       "      <td>rs4893683</td>\n",
       "      <td>Y</td>\n",
       "      <td>58995039</td>\n",
       "      <td>TT</td>\n",
       "    </tr>\n",
       "    <tr>\n",
       "      <th>609343</th>\n",
       "      <td>rs796479460</td>\n",
       "      <td>Y</td>\n",
       "      <td>58995204</td>\n",
       "      <td>TT</td>\n",
       "    </tr>\n",
       "    <tr>\n",
       "      <th>609344</th>\n",
       "      <td>rs79602159</td>\n",
       "      <td>Y</td>\n",
       "      <td>58997068</td>\n",
       "      <td>AA</td>\n",
       "    </tr>\n",
       "    <tr>\n",
       "      <th>609345</th>\n",
       "      <td>rs796635549</td>\n",
       "      <td>Y</td>\n",
       "      <td>58997092</td>\n",
       "      <td>CC</td>\n",
       "    </tr>\n",
       "  </tbody>\n",
       "</table>\n",
       "</div>"
      ],
      "text/plain": [
       "             # rsid chromosome  position genotype\n",
       "609341  rs796720893          Y  58994369       GG\n",
       "609342    rs4893683          Y  58995039       TT\n",
       "609343  rs796479460          Y  58995204       TT\n",
       "609344   rs79602159          Y  58997068       AA\n",
       "609345  rs796635549          Y  58997092       CC"
      ]
     },
     "execution_count": 8,
     "metadata": {},
     "output_type": "execute_result"
    }
   ],
   "source": [
    "genome_d.tail()"
   ]
  },
  {
   "cell_type": "code",
   "execution_count": 9,
   "metadata": {},
   "outputs": [
    {
     "data": {
      "text/plain": [
       "1     47742\n",
       "2     46815\n",
       "6     40965\n",
       "3     39186\n",
       "5     34900\n",
       "4     34386\n",
       "7     33552\n",
       "8     30651\n",
       "11    29883\n",
       "10    29592\n",
       "12    29068\n",
       "9     27010\n",
       "13    21882\n",
       "16    19680\n",
       "X     19588\n",
       "17    19364\n",
       "14    19002\n",
       "15    18660\n",
       "20    14730\n",
       "18    14696\n",
       "19    13948\n",
       "22     9307\n",
       "21     8571\n",
       "MT     3287\n",
       "Y      2129\n",
       "18     1950\n",
       "Name: chromosome, dtype: int64"
      ]
     },
     "execution_count": 9,
     "metadata": {},
     "output_type": "execute_result"
    }
   ],
   "source": [
    "genome[\"chromosome\"].value_counts()"
   ]
  },
  {
   "cell_type": "code",
   "execution_count": 10,
   "metadata": {},
   "outputs": [
    {
     "data": {
      "text/plain": [
       "2     46458\n",
       "1     45474\n",
       "6     43616\n",
       "3     42459\n",
       "4     39531\n",
       "5     37674\n",
       "7     34228\n",
       "8     31914\n",
       "10    30755\n",
       "11    30252\n",
       "X     29694\n",
       "12    26460\n",
       "9     21832\n",
       "13    19151\n",
       "16    17922\n",
       "14    17039\n",
       "15    16628\n",
       "17    16330\n",
       "20    13508\n",
       "19    12924\n",
       "18     9298\n",
       "22     8397\n",
       "21     7742\n",
       "18     6565\n",
       "Y      3495\n",
       "Name: chromosome, dtype: int64"
      ]
     },
     "execution_count": 10,
     "metadata": {},
     "output_type": "execute_result"
    }
   ],
   "source": [
    "genome_d[\"chromosome\"].value_counts()"
   ]
  },
  {
   "cell_type": "code",
   "execution_count": 11,
   "metadata": {},
   "outputs": [
    {
     "data": {
      "text/plain": [
       "609346"
      ]
     },
     "execution_count": 11,
     "metadata": {},
     "output_type": "execute_result"
    }
   ],
   "source": [
    "len(genome_d)"
   ]
  },
  {
   "cell_type": "code",
   "execution_count": 12,
   "metadata": {},
   "outputs": [
    {
     "data": {
      "text/plain": [
       "610544"
      ]
     },
     "execution_count": 12,
     "metadata": {},
     "output_type": "execute_result"
    }
   ],
   "source": [
    "len(genome)"
   ]
  },
  {
   "cell_type": "markdown",
   "metadata": {},
   "source": [
    "-  Histogram of the nucleobases. Showing Adenine ( A), Cytosine (C), Guanine (G) and Timine (T) pluse Deletions (D) and Insertions (I)"
   ]
  },
  {
   "cell_type": "code",
   "execution_count": 13,
   "metadata": {},
   "outputs": [
    {
     "data": {
      "text/plain": [
       "<matplotlib.axes._subplots.AxesSubplot at 0x12b078af0>"
      ]
     },
     "execution_count": 13,
     "metadata": {},
     "output_type": "execute_result"
    },
    {
     "data": {
      "image/png": "[encoded data removed]",
      "text/plain": [
       "<Figure size 432x288 with 1 Axes>"
      ]
     },
     "metadata": {
      "needs_background": "light"
     },
     "output_type": "display_data"
    }
   ],
   "source": [
    "import seaborn as sns\n",
    "sns.histplot(genome[\"genotype\"])"
   ]
  },
  {
   "cell_type": "code",
   "execution_count": 14,
   "metadata": {},
   "outputs": [
    {
     "data": {
      "text/plain": [
       "<matplotlib.axes._subplots.AxesSubplot at 0x11e78d2b0>"
      ]
     },
     "execution_count": 14,
     "metadata": {},
     "output_type": "execute_result"
    },
    {
     "data": {
      "image/png": "[encoded data removed]",
      "text/plain": [
       "<Figure size 432x288 with 1 Axes>"
      ]
     },
     "metadata": {
      "needs_background": "light"
     },
     "output_type": "display_data"
    }
   ],
   "source": [
    "import seaborn as sns\n",
    "sns.histplot(genome_d[\"genotype\"])"
   ]
  },
  {
   "cell_type": "markdown",
   "metadata": {},
   "source": [
    "- Creating a dictionary of the grouped dataframe by Chromosomes"
   ]
  },
  {
   "cell_type": "code",
   "execution_count": 15,
   "metadata": {},
   "outputs": [],
   "source": [
    "chromosomes = {k: v for k, v in genome.groupby('chromosome')}"
   ]
  },
  {
   "cell_type": "code",
   "execution_count": 16,
   "metadata": {},
   "outputs": [],
   "source": [
    "chromosomes_d = {k: v for k, v in genome_d.groupby('chromosome')}"
   ]
  },
  {
   "cell_type": "markdown",
   "metadata": {},
   "source": [
    "- Showing the keys of the dictionary Chromosomes"
   ]
  },
  {
   "cell_type": "code",
   "execution_count": 17,
   "metadata": {},
   "outputs": [
    {
     "data": {
      "text/plain": [
       "dict_keys([1, 2, 3, 4, 5, 6, 7, 8, 9, 10, 11, 12, 13, 14, 15, 16, 17, 18, '18', '19', '20', '21', '22', 'MT', 'X', 'Y'])"
      ]
     },
     "execution_count": 17,
     "metadata": {},
     "output_type": "execute_result"
    }
   ],
   "source": [
    "chromosomes.keys()"
   ]
  },
  {
   "cell_type": "code",
   "execution_count": 18,
   "metadata": {},
   "outputs": [
    {
     "data": {
      "text/plain": [
       "dict_keys([1, 2, 3, 4, 5, 6, 7, 8, 9, 10, 11, 12, 13, 14, 15, 16, 17, 18, '18', '19', '20', '21', '22', 'X', 'Y'])"
      ]
     },
     "execution_count": 18,
     "metadata": {},
     "output_type": "execute_result"
    }
   ],
   "source": [
    "chromosomes_d.keys()"
   ]
  },
  {
   "cell_type": "markdown",
   "metadata": {},
   "source": [
    "- Sorting the values of the dictionary Chromosomes"
   ]
  },
  {
   "cell_type": "code",
   "execution_count": 19,
   "metadata": {},
   "outputs": [],
   "source": [
    "for i in chromosomes:\n",
    "    chromosomes[i].sort_values(by='position')"
   ]
  },
  {
   "cell_type": "code",
   "execution_count": 20,
   "metadata": {},
   "outputs": [],
   "source": [
    "for i in chromosomes_d:\n",
    "    chromosomes_d[i].sort_values(by='position')"
   ]
  },
  {
   "cell_type": "code",
   "execution_count": 21,
   "metadata": {},
   "outputs": [
    {
     "name": "stdout",
     "output_type": "stream",
     "text": [
      "        # rsid chromosome  position genotype\n",
      "0   rs12564807          1    734462       AA\n",
      "1    rs3131972          1    752721       AG\n",
      "2  rs148828841          1    760998       AC\n",
      "3   rs12124819          1    776546       AA\n",
      "4  rs115093905          1    787173       GG\n",
      "5   rs11240777          1    798959       GG\n",
      "6    rs7538305          1    824398       AA\n",
      "7    rs4970383          1    838555       AA\n",
      "8    rs4475691          1    846808       TT\n",
      "9    rs7537756          1    854250       GG\n"
     ]
    }
   ],
   "source": [
    "print(chromosomes[1][0:10])"
   ]
  },
  {
   "cell_type": "code",
   "execution_count": 22,
   "metadata": {},
   "outputs": [
    {
     "name": "stdout",
     "output_type": "stream",
     "text": [
      "        # rsid chromosome  position genotype\n",
      "0  rs547237130          1     72526       AA\n",
      "1  rs562180473          1    565703       AA\n",
      "2  rs575203260          1    567693       TT\n",
      "3    rs3131972          1    752721       GG\n",
      "4  rs200599638          1    752918       GG\n",
      "5   rs12184325          1    754105       CC\n",
      "6  rs114525117          1    759036       GG\n",
      "7    rs2980300          1    785989       CT\n",
      "8   rs11240777          1    798959       AA\n",
      "9   rs79373928          1    801536       TT\n"
     ]
    }
   ],
   "source": [
    "print(chromosomes_d[1][0:10])"
   ]
  },
  {
   "cell_type": "code",
   "execution_count": 23,
   "metadata": {},
   "outputs": [
    {
     "name": "stdout",
     "output_type": "stream",
     "text": [
      "            # rsid chromosome  position genotype\n",
      "585540   rs6644972          X    178624       GG\n",
      "585541  rs28475515          X    182276       TT\n",
      "585542  rs28463388          X    191998       TT\n",
      "585543  rs28669107          X    195014       CG\n",
      "585544    i6033542          X    200928       CC\n",
      "585545   rs6655397          X    201935       AG\n",
      "585546   rs7890186          X    202458       GG\n",
      "585547    i6033543          X    209741       CC\n",
      "585548    i6033544          X    215805       CC\n",
      "585549  rs28736870          X    220770       GG\n"
     ]
    }
   ],
   "source": [
    "\n",
    "print(chromosomes['X'][0:10])"
   ]
  },
  {
   "cell_type": "code",
   "execution_count": 24,
   "metadata": {},
   "outputs": [
    {
     "name": "stdout",
     "output_type": "stream",
     "text": [
      "             # rsid chromosome  position genotype\n",
      "576157   rs60233760          X   2699898       --\n",
      "576158    rs2306737          X   2699968       --\n",
      "576159    rs5939319          X   2700157       GG\n",
      "576160  rs143003919          X   2700163       GG\n",
      "576161    rs5939320          X   2700202       AA\n",
      "576162  rs112398174          X   2701004       TT\n",
      "576163    rs1970797          X   2701185       CC\n",
      "576164  rs113564299          X   2701355       DD\n",
      "576165   rs61591740          X   2701483       AA\n",
      "576166  rs150378456          X   2701699       AA\n"
     ]
    }
   ],
   "source": [
    "\n",
    "print(chromosomes_d['X'][0:10])"
   ]
  },
  {
   "cell_type": "markdown",
   "metadata": {},
   "source": [
    "## Checking the SEX of the person (M/F)\n",
    "\n"
   ]
  },
  {
   "cell_type": "code",
   "execution_count": 25,
   "metadata": {},
   "outputs": [
    {
     "data": {
      "text/html": [
       "<div>\n",
       "<style scoped>\n",
       "    .dataframe tbody tr th:only-of-type {\n",
       "        vertical-align: middle;\n",
       "    }\n",
       "\n",
       "    .dataframe tbody tr th {\n",
       "        vertical-align: top;\n",
       "    }\n",
       "\n",
       "    .dataframe thead th {\n",
       "        text-align: right;\n",
       "    }\n",
       "</style>\n",
       "<table border=\"1\" class=\"dataframe\">\n",
       "  <thead>\n",
       "    <tr style=\"text-align: right;\">\n",
       "      <th></th>\n",
       "      <th># rsid</th>\n",
       "      <th>chromosome</th>\n",
       "      <th>position</th>\n",
       "      <th>genotype</th>\n",
       "    </tr>\n",
       "  </thead>\n",
       "  <tbody>\n",
       "    <tr>\n",
       "      <th>605128</th>\n",
       "      <td>i4000095</td>\n",
       "      <td>Y</td>\n",
       "      <td>2649694</td>\n",
       "      <td>T</td>\n",
       "    </tr>\n",
       "    <tr>\n",
       "      <th>605129</th>\n",
       "      <td>i4000093</td>\n",
       "      <td>Y</td>\n",
       "      <td>2649696</td>\n",
       "      <td>--</td>\n",
       "    </tr>\n",
       "    <tr>\n",
       "      <th>605130</th>\n",
       "      <td>rs11575897</td>\n",
       "      <td>Y</td>\n",
       "      <td>2655180</td>\n",
       "      <td>G</td>\n",
       "    </tr>\n",
       "    <tr>\n",
       "      <th>605131</th>\n",
       "      <td>i5004371</td>\n",
       "      <td>Y</td>\n",
       "      <td>2655248</td>\n",
       "      <td>G</td>\n",
       "    </tr>\n",
       "    <tr>\n",
       "      <th>605132</th>\n",
       "      <td>i5004367</td>\n",
       "      <td>Y</td>\n",
       "      <td>2655265</td>\n",
       "      <td>T</td>\n",
       "    </tr>\n",
       "  </tbody>\n",
       "</table>\n",
       "</div>"
      ],
      "text/plain": [
       "            # rsid chromosome  position genotype\n",
       "605128    i4000095          Y   2649694        T\n",
       "605129    i4000093          Y   2649696       --\n",
       "605130  rs11575897          Y   2655180        G\n",
       "605131    i5004371          Y   2655248        G\n",
       "605132    i5004367          Y   2655265        T"
      ]
     },
     "execution_count": 25,
     "metadata": {},
     "output_type": "execute_result"
    }
   ],
   "source": [
    "genome.loc[genome['chromosome'] == 'Y'].head()"
   ]
  },
  {
   "cell_type": "code",
   "execution_count": 26,
   "metadata": {},
   "outputs": [
    {
     "data": {
      "text/html": [
       "<div>\n",
       "<style scoped>\n",
       "    .dataframe tbody tr th:only-of-type {\n",
       "        vertical-align: middle;\n",
       "    }\n",
       "\n",
       "    .dataframe tbody tr th {\n",
       "        vertical-align: top;\n",
       "    }\n",
       "\n",
       "    .dataframe thead th {\n",
       "        text-align: right;\n",
       "    }\n",
       "</style>\n",
       "<table border=\"1\" class=\"dataframe\">\n",
       "  <thead>\n",
       "    <tr style=\"text-align: right;\">\n",
       "      <th></th>\n",
       "      <th># rsid</th>\n",
       "      <th>chromosome</th>\n",
       "      <th>position</th>\n",
       "      <th>genotype</th>\n",
       "    </tr>\n",
       "  </thead>\n",
       "  <tbody>\n",
       "    <tr>\n",
       "      <th>605851</th>\n",
       "      <td>rs201588461</td>\n",
       "      <td>Y</td>\n",
       "      <td>2654333</td>\n",
       "      <td>CC</td>\n",
       "    </tr>\n",
       "    <tr>\n",
       "      <th>605852</th>\n",
       "      <td>rs11575897</td>\n",
       "      <td>Y</td>\n",
       "      <td>2655180</td>\n",
       "      <td>GG</td>\n",
       "    </tr>\n",
       "    <tr>\n",
       "      <th>605853</th>\n",
       "      <td>rs104894965</td>\n",
       "      <td>Y</td>\n",
       "      <td>2655436</td>\n",
       "      <td>CC</td>\n",
       "    </tr>\n",
       "    <tr>\n",
       "      <th>605854</th>\n",
       "      <td>rs2534636</td>\n",
       "      <td>Y</td>\n",
       "      <td>2657176</td>\n",
       "      <td>CC</td>\n",
       "    </tr>\n",
       "    <tr>\n",
       "      <th>605855</th>\n",
       "      <td>rs1800865</td>\n",
       "      <td>Y</td>\n",
       "      <td>2658271</td>\n",
       "      <td>GG</td>\n",
       "    </tr>\n",
       "  </tbody>\n",
       "</table>\n",
       "</div>"
      ],
      "text/plain": [
       "             # rsid chromosome  position genotype\n",
       "605851  rs201588461          Y   2654333       CC\n",
       "605852   rs11575897          Y   2655180       GG\n",
       "605853  rs104894965          Y   2655436       CC\n",
       "605854    rs2534636          Y   2657176       CC\n",
       "605855    rs1800865          Y   2658271       GG"
      ]
     },
     "execution_count": 26,
     "metadata": {},
     "output_type": "execute_result"
    }
   ],
   "source": [
    "genome_d.loc[genome_d['chromosome'] == 'Y'].head()"
   ]
  },
  {
   "cell_type": "markdown",
   "metadata": {},
   "source": [
    "\n",
    "- Conclussion 1: \n",
    "\n",
    "A sex chromosome (23rd pair)  is a type of chromosome that participates in sex determination. Humans and most other mammals have two sex chromosomes, the X and the Y. Females have two X chromosomes in their cells, while males have both X and a Y chromosomes in their cells.\n",
    "\n",
    "Since we have information of Y chromosome we can say this both genomes belongs to males"
   ]
  },
  {
   "cell_type": "markdown",
   "metadata": {},
   "source": [
    "## Checking eye color\n",
    "\n",
    "I looked into [SNPedia eye color](https://www.snpedia.com/index.php/Eye_color) to know more about the genetics of eye color. \n",
    "\n",
    "Like hair color, eye color genetics are still being worked out, and it's clear that several genes can modify the eventual outcome. In a population sense, it should be noted that all populations except Caucasians basically have brown eyes, while amongst Caucasians one categorization that researchers track is blue vs non-blue. \n",
    "\n",
    "#### Hypothesis: \n",
    "The eye color of the person being analyzed will be brown, because his name sounds like he might have Indian heritage.\n",
    "\n",
    "- gs237 is about eye color\n",
    "\n",
    "- gnxp Eye color snps\n",
    "\n",
    "* rs1408799 C>T\n",
    "* rs2733832 C>T\n",
    "* rs1800401 C>T\n",
    "* rs1800407 G>A\n",
    "* rs1800414 A>G\n",
    "* rs12913823 T>C\n",
    "* rs4911442 A>G\n",
    "* rs6058017 A>G\n",
    "* rs105362 A>G\n",
    "* rs4911414 G>T\n",
    "* rs12896399 G>T\n",
    "\n",
    "More info [SNPedia eye color](https://www.snpedia.com/index.php/Eye_color) "
   ]
  },
  {
   "cell_type": "markdown",
   "metadata": {},
   "source": [
    "Checking for Green/Brown eyes\n",
    "[SNPedia Green/Brown eyes](https://www.snpedia.com/index.php/Rs1800407(A;A))"
   ]
  },
  {
   "cell_type": "code",
   "execution_count": 27,
   "metadata": {},
   "outputs": [
    {
     "data": {
      "text/html": [
       "<div>\n",
       "<style scoped>\n",
       "    .dataframe tbody tr th:only-of-type {\n",
       "        vertical-align: middle;\n",
       "    }\n",
       "\n",
       "    .dataframe tbody tr th {\n",
       "        vertical-align: top;\n",
       "    }\n",
       "\n",
       "    .dataframe thead th {\n",
       "        text-align: right;\n",
       "    }\n",
       "</style>\n",
       "<table border=\"1\" class=\"dataframe\">\n",
       "  <thead>\n",
       "    <tr style=\"text-align: right;\">\n",
       "      <th></th>\n",
       "      <th># rsid</th>\n",
       "      <th>chromosome</th>\n",
       "      <th>position</th>\n",
       "      <th>genotype</th>\n",
       "    </tr>\n",
       "  </thead>\n",
       "  <tbody>\n",
       "    <tr>\n",
       "      <th>465968</th>\n",
       "      <td>rs1800401</td>\n",
       "      <td>15</td>\n",
       "      <td>28260053</td>\n",
       "      <td>AA</td>\n",
       "    </tr>\n",
       "  </tbody>\n",
       "</table>\n",
       "</div>"
      ],
      "text/plain": [
       "           # rsid chromosome  position genotype\n",
       "465968  rs1800401         15  28260053       AA"
      ]
     },
     "execution_count": 27,
     "metadata": {},
     "output_type": "execute_result"
    }
   ],
   "source": [
    "genome.loc[genome[\"# rsid\"].isin([\"rs1800401\"])]"
   ]
  },
  {
   "cell_type": "markdown",
   "metadata": {},
   "source": [
    "\n",
    "\n",
    "![Title](./Image/rs1800401-AA.png \"rs1800401 - Black Eyes\")"
   ]
  },
  {
   "cell_type": "code",
   "execution_count": 28,
   "metadata": {},
   "outputs": [
    {
     "data": {
      "text/html": [
       "<div>\n",
       "<style scoped>\n",
       "    .dataframe tbody tr th:only-of-type {\n",
       "        vertical-align: middle;\n",
       "    }\n",
       "\n",
       "    .dataframe tbody tr th {\n",
       "        vertical-align: top;\n",
       "    }\n",
       "\n",
       "    .dataframe thead th {\n",
       "        text-align: right;\n",
       "    }\n",
       "</style>\n",
       "<table border=\"1\" class=\"dataframe\">\n",
       "  <thead>\n",
       "    <tr style=\"text-align: right;\">\n",
       "      <th></th>\n",
       "      <th># rsid</th>\n",
       "      <th>chromosome</th>\n",
       "      <th>position</th>\n",
       "      <th>genotype</th>\n",
       "    </tr>\n",
       "  </thead>\n",
       "  <tbody>\n",
       "  </tbody>\n",
       "</table>\n",
       "</div>"
      ],
      "text/plain": [
       "Empty DataFrame\n",
       "Columns: [# rsid, chromosome, position, genotype]\n",
       "Index: []"
      ]
     },
     "execution_count": 28,
     "metadata": {},
     "output_type": "execute_result"
    }
   ],
   "source": [
    "genome_d.loc[genome_d[\"# rsid\"].isin([\"rs1800401\"])]"
   ]
  },
  {
   "cell_type": "markdown",
   "metadata": {},
   "source": [
    "This SNP (genome variation) is not present in the second individual. Let's look for another SNP that is known to be linked to brown eyes for the second individual. "
   ]
  },
  {
   "cell_type": "code",
   "execution_count": 29,
   "metadata": {},
   "outputs": [
    {
     "data": {
      "text/html": [
       "<div>\n",
       "<style scoped>\n",
       "    .dataframe tbody tr th:only-of-type {\n",
       "        vertical-align: middle;\n",
       "    }\n",
       "\n",
       "    .dataframe tbody tr th {\n",
       "        vertical-align: top;\n",
       "    }\n",
       "\n",
       "    .dataframe thead th {\n",
       "        text-align: right;\n",
       "    }\n",
       "</style>\n",
       "<table border=\"1\" class=\"dataframe\">\n",
       "  <thead>\n",
       "    <tr style=\"text-align: right;\">\n",
       "      <th></th>\n",
       "      <th># rsid</th>\n",
       "      <th>chromosome</th>\n",
       "      <th>position</th>\n",
       "      <th>genotype</th>\n",
       "    </tr>\n",
       "  </thead>\n",
       "  <tbody>\n",
       "    <tr>\n",
       "      <th>468269</th>\n",
       "      <td>rs12913832</td>\n",
       "      <td>15</td>\n",
       "      <td>28365618</td>\n",
       "      <td>AG</td>\n",
       "    </tr>\n",
       "  </tbody>\n",
       "</table>\n",
       "</div>"
      ],
      "text/plain": [
       "            # rsid chromosome  position genotype\n",
       "468269  rs12913832         15  28365618       AG"
      ]
     },
     "execution_count": 29,
     "metadata": {},
     "output_type": "execute_result"
    }
   ],
   "source": [
    "genome_d.loc[genome_d[\"# rsid\"].isin([\"rs12913832\"])]"
   ]
  },
  {
   "cell_type": "markdown",
   "metadata": {},
   "source": [
    "![Title](./Image/rs12913832-AG.png \"rs12913832-AG - eye color\")"
   ]
  },
  {
   "cell_type": "markdown",
   "metadata": {},
   "source": [
    "\n",
    "- Conclussion 2: \n",
    "\n",
    "- Zeeshan-ul-hassan Usmani  has green/hazel/brown/black eyes\n",
    "\n",
    "- Daniel Darko it is clear he has brown eye color associated to another SNP inside the same gene OCA2"
   ]
  },
  {
   "cell_type": "markdown",
   "metadata": {},
   "source": [
    "## Checking the skin color \n",
    "SNPs in two genes are known to be involved:\n",
    "\n",
    "in the SLC24A5 gene:\n",
    "rs1426654\n",
    "in the SLC45A2 gene:\n",
    "rs16891982\n"
   ]
  },
  {
   "cell_type": "code",
   "execution_count": 30,
   "metadata": {},
   "outputs": [
    {
     "data": {
      "text/html": [
       "<div>\n",
       "<style scoped>\n",
       "    .dataframe tbody tr th:only-of-type {\n",
       "        vertical-align: middle;\n",
       "    }\n",
       "\n",
       "    .dataframe tbody tr th {\n",
       "        vertical-align: top;\n",
       "    }\n",
       "\n",
       "    .dataframe thead th {\n",
       "        text-align: right;\n",
       "    }\n",
       "</style>\n",
       "<table border=\"1\" class=\"dataframe\">\n",
       "  <thead>\n",
       "    <tr style=\"text-align: right;\">\n",
       "      <th></th>\n",
       "      <th># rsid</th>\n",
       "      <th>chromosome</th>\n",
       "      <th>position</th>\n",
       "      <th>genotype</th>\n",
       "    </tr>\n",
       "  </thead>\n",
       "  <tbody>\n",
       "    <tr>\n",
       "      <th>470218</th>\n",
       "      <td>rs1426654</td>\n",
       "      <td>15</td>\n",
       "      <td>48426484</td>\n",
       "      <td>AA</td>\n",
       "    </tr>\n",
       "  </tbody>\n",
       "</table>\n",
       "</div>"
      ],
      "text/plain": [
       "           # rsid chromosome  position genotype\n",
       "470218  rs1426654         15  48426484       AA"
      ]
     },
     "execution_count": 30,
     "metadata": {},
     "output_type": "execute_result"
    }
   ],
   "source": [
    "genome.loc[genome[\"# rsid\"].isin([\"rs1426654\"])]"
   ]
  },
  {
   "cell_type": "code",
   "execution_count": 31,
   "metadata": {},
   "outputs": [
    {
     "data": {
      "text/html": [
       "<div>\n",
       "<style scoped>\n",
       "    .dataframe tbody tr th:only-of-type {\n",
       "        vertical-align: middle;\n",
       "    }\n",
       "\n",
       "    .dataframe tbody tr th {\n",
       "        vertical-align: top;\n",
       "    }\n",
       "\n",
       "    .dataframe thead th {\n",
       "        text-align: right;\n",
       "    }\n",
       "</style>\n",
       "<table border=\"1\" class=\"dataframe\">\n",
       "  <thead>\n",
       "    <tr style=\"text-align: right;\">\n",
       "      <th></th>\n",
       "      <th># rsid</th>\n",
       "      <th>chromosome</th>\n",
       "      <th>position</th>\n",
       "      <th>genotype</th>\n",
       "    </tr>\n",
       "  </thead>\n",
       "  <tbody>\n",
       "    <tr>\n",
       "      <th>471839</th>\n",
       "      <td>rs1426654</td>\n",
       "      <td>15</td>\n",
       "      <td>48426484</td>\n",
       "      <td>AA</td>\n",
       "    </tr>\n",
       "  </tbody>\n",
       "</table>\n",
       "</div>"
      ],
      "text/plain": [
       "           # rsid chromosome  position genotype\n",
       "471839  rs1426654         15  48426484       AA"
      ]
     },
     "execution_count": 31,
     "metadata": {},
     "output_type": "execute_result"
    }
   ],
   "source": [
    "genome_d.loc[genome_d[\"# rsid\"].isin([\"rs1426654\"])]"
   ]
  },
  {
   "cell_type": "markdown",
   "metadata": {},
   "source": [
    "![Title](./Image/rs1426654-AA.png \"rs1426654-AA - Skin\")"
   ]
  },
  {
   "cell_type": "code",
   "execution_count": 32,
   "metadata": {},
   "outputs": [
    {
     "data": {
      "text/html": [
       "<div>\n",
       "<style scoped>\n",
       "    .dataframe tbody tr th:only-of-type {\n",
       "        vertical-align: middle;\n",
       "    }\n",
       "\n",
       "    .dataframe tbody tr th {\n",
       "        vertical-align: top;\n",
       "    }\n",
       "\n",
       "    .dataframe thead th {\n",
       "        text-align: right;\n",
       "    }\n",
       "</style>\n",
       "<table border=\"1\" class=\"dataframe\">\n",
       "  <thead>\n",
       "    <tr style=\"text-align: right;\">\n",
       "      <th></th>\n",
       "      <th># rsid</th>\n",
       "      <th>chromosome</th>\n",
       "      <th>position</th>\n",
       "      <th>genotype</th>\n",
       "    </tr>\n",
       "  </thead>\n",
       "  <tbody>\n",
       "    <tr>\n",
       "      <th>175253</th>\n",
       "      <td>rs16891982</td>\n",
       "      <td>5</td>\n",
       "      <td>33951693</td>\n",
       "      <td>CG</td>\n",
       "    </tr>\n",
       "  </tbody>\n",
       "</table>\n",
       "</div>"
      ],
      "text/plain": [
       "            # rsid chromosome  position genotype\n",
       "175253  rs16891982          5  33951693       CG"
      ]
     },
     "execution_count": 32,
     "metadata": {},
     "output_type": "execute_result"
    }
   ],
   "source": [
    "genome.loc[genome[\"# rsid\"].isin([\"rs16891982\"])]"
   ]
  },
  {
   "cell_type": "code",
   "execution_count": 33,
   "metadata": {},
   "outputs": [
    {
     "data": {
      "text/html": [
       "<div>\n",
       "<style scoped>\n",
       "    .dataframe tbody tr th:only-of-type {\n",
       "        vertical-align: middle;\n",
       "    }\n",
       "\n",
       "    .dataframe tbody tr th {\n",
       "        vertical-align: top;\n",
       "    }\n",
       "\n",
       "    .dataframe thead th {\n",
       "        text-align: right;\n",
       "    }\n",
       "</style>\n",
       "<table border=\"1\" class=\"dataframe\">\n",
       "  <thead>\n",
       "    <tr style=\"text-align: right;\">\n",
       "      <th></th>\n",
       "      <th># rsid</th>\n",
       "      <th>chromosome</th>\n",
       "      <th>position</th>\n",
       "      <th>genotype</th>\n",
       "    </tr>\n",
       "  </thead>\n",
       "  <tbody>\n",
       "    <tr>\n",
       "      <th>182198</th>\n",
       "      <td>rs16891982</td>\n",
       "      <td>5</td>\n",
       "      <td>33951693</td>\n",
       "      <td>CG</td>\n",
       "    </tr>\n",
       "  </tbody>\n",
       "</table>\n",
       "</div>"
      ],
      "text/plain": [
       "            # rsid chromosome  position genotype\n",
       "182198  rs16891982          5  33951693       CG"
      ]
     },
     "execution_count": 33,
     "metadata": {},
     "output_type": "execute_result"
    }
   ],
   "source": [
    "genome_d.loc[genome_d[\"# rsid\"].isin([\"rs16891982\"])]"
   ]
  },
  {
   "cell_type": "markdown",
   "metadata": {},
   "source": [
    "![Title](./Image/rs16891982-CG.png \"rs16891982-CG - Skin\")"
   ]
  },
  {
   "cell_type": "markdown",
   "metadata": {},
   "source": [
    "\n",
    "- Conclussion 3: \n",
    "\n",
    "\n",
    "\n",
    "- Zeeshan-ul-hassan Usmani  has green/hazel/brown/black eyes has probably light skin European ancestry. If European probably 7 times more likely to have black hair. As the ancestry of this individual is not european, we would need further and deeper study to understand the skin color heritage.\n",
    "\n",
    "- Daniel Darko  has probably light skin European ancestry. If European probably 7 times more likely to have black hair. In this case, it is true about Eurpean ancestry however the skin of the individual has darker tones. We would have to further investiage this issue. About the the hair it is true he has black hair. \n"
   ]
  },
  {
   "cell_type": "markdown",
   "metadata": {},
   "source": [
    "FOOTNOTE - [Human skin color evolution chart](https://www.nerdgranny.com/human-skin-color-evolution-chart/)\n",
    "\n",
    "![asdad](./Image/human-skin-color-evolution.png \"Human skin color evolution chart\")"
   ]
  },
  {
   "cell_type": "markdown",
   "metadata": {},
   "source": [
    "###  Phenotype of Zeeshan\n",
    "\n",
    "![asdsad](./Image/Zeeshan.png \"Zeeshan\")"
   ]
  },
  {
   "cell_type": "markdown",
   "metadata": {},
   "source": [
    "## Checking for disease\n",
    "\n",
    "1. Heart disease ischaemic heart disease/CAD\n",
    "2. Stroke\n",
    "3. Chronic obstrucitve pulmonary disease\n",
    "4. Neonatal conditions\n",
    "5. Trachea, bronchus, lung cancers\n",
    "6. Alzheimer's disease and other dementias\n",
    "7. Diarrhoeal diseases\n",
    "8. Diabetes mellitus\n",
    "9. Kidney diseases\n",
    "\n",
    "There will be some disease that are not related to the genome. I will try to study them in the most convenient way possible."
   ]
  },
  {
   "cell_type": "markdown",
   "metadata": {},
   "source": [
    "**1. Heart disease: Coronary artery disease CAD**\n",
    "\n",
    "- Ischemic means that an organ (e.g., the heart) is not getting enough blood and oxygen. \n",
    "\n",
    "**Ischemic heart disease**, also called **coronary heart disease (CHD)** or **coronary artery disease**, is the term given to heart problems caused by narrowed heart (coronary) arteries that supply blood to the heart muscle.\n",
    "    \n",
    "rs1333049 has been reported in a large study to be associated with heart disease, in particular, coronary artery disease.\n",
    "\n",
    "The risk allele (oriented to the dbSNP entry) is most likely (C); the odds ratio associated with heterozygotes is 1.47 (CI 1.27-1.70), and for homozygotes, 1.9 (CI 1.61-2.24)."
   ]
  },
  {
   "cell_type": "code",
   "execution_count": 34,
   "metadata": {},
   "outputs": [
    {
     "data": {
      "text/html": [
       "<div>\n",
       "<style scoped>\n",
       "    .dataframe tbody tr th:only-of-type {\n",
       "        vertical-align: middle;\n",
       "    }\n",
       "\n",
       "    .dataframe tbody tr th {\n",
       "        vertical-align: top;\n",
       "    }\n",
       "\n",
       "    .dataframe thead th {\n",
       "        text-align: right;\n",
       "    }\n",
       "</style>\n",
       "<table border=\"1\" class=\"dataframe\">\n",
       "  <thead>\n",
       "    <tr style=\"text-align: right;\">\n",
       "      <th></th>\n",
       "      <th># rsid</th>\n",
       "      <th>chromosome</th>\n",
       "      <th>position</th>\n",
       "      <th>genotype</th>\n",
       "    </tr>\n",
       "  </thead>\n",
       "  <tbody>\n",
       "    <tr>\n",
       "      <th>315279</th>\n",
       "      <td>rs1333049</td>\n",
       "      <td>9</td>\n",
       "      <td>22125503</td>\n",
       "      <td>CG</td>\n",
       "    </tr>\n",
       "  </tbody>\n",
       "</table>\n",
       "</div>"
      ],
      "text/plain": [
       "           # rsid chromosome  position genotype\n",
       "315279  rs1333049          9  22125503       CG"
      ]
     },
     "execution_count": 34,
     "metadata": {},
     "output_type": "execute_result"
    }
   ],
   "source": [
    "genome.loc[genome['# rsid'] == 'rs1333049']"
   ]
  },
  {
   "cell_type": "code",
   "execution_count": 35,
   "metadata": {},
   "outputs": [
    {
     "data": {
      "text/html": [
       "<div>\n",
       "<style scoped>\n",
       "    .dataframe tbody tr th:only-of-type {\n",
       "        vertical-align: middle;\n",
       "    }\n",
       "\n",
       "    .dataframe tbody tr th {\n",
       "        vertical-align: top;\n",
       "    }\n",
       "\n",
       "    .dataframe thead th {\n",
       "        text-align: right;\n",
       "    }\n",
       "</style>\n",
       "<table border=\"1\" class=\"dataframe\">\n",
       "  <thead>\n",
       "    <tr style=\"text-align: right;\">\n",
       "      <th></th>\n",
       "      <th># rsid</th>\n",
       "      <th>chromosome</th>\n",
       "      <th>position</th>\n",
       "      <th>genotype</th>\n",
       "    </tr>\n",
       "  </thead>\n",
       "  <tbody>\n",
       "    <tr>\n",
       "      <th>326582</th>\n",
       "      <td>rs1333049</td>\n",
       "      <td>9</td>\n",
       "      <td>22125503</td>\n",
       "      <td>CG</td>\n",
       "    </tr>\n",
       "  </tbody>\n",
       "</table>\n",
       "</div>"
      ],
      "text/plain": [
       "           # rsid chromosome  position genotype\n",
       "326582  rs1333049          9  22125503       CG"
      ]
     },
     "execution_count": 35,
     "metadata": {},
     "output_type": "execute_result"
    }
   ],
   "source": [
    "genome_d.loc[genome_d['# rsid'] == 'rs1333049']"
   ]
  },
  {
   "cell_type": "markdown",
   "metadata": {},
   "source": [
    "![asdsad](./Image/rs1333049-CG.png \"rs1333049-CG Coronary heart disease\")"
   ]
  },
  {
   "cell_type": "markdown",
   "metadata": {},
   "source": [
    "- Conclussion Diseases: **1.Heart disease: Coronary artery disease CAD**\n",
    "\n",
    "We can conclude both individual have probably 1.5 times increased risk of Coronary artery disease CAD"
   ]
  },
  {
   "cell_type": "markdown",
   "metadata": {},
   "source": [
    "**2. Stroke**\n",
    "\n",
    "[SNPedia link for stroke related SNPs](https://www.snpedia.com/index.php/Stroke)"
   ]
  },
  {
   "cell_type": "code",
   "execution_count": 36,
   "metadata": {},
   "outputs": [
    {
     "data": {
      "text/html": [
       "<div>\n",
       "<style scoped>\n",
       "    .dataframe tbody tr th:only-of-type {\n",
       "        vertical-align: middle;\n",
       "    }\n",
       "\n",
       "    .dataframe tbody tr th {\n",
       "        vertical-align: top;\n",
       "    }\n",
       "\n",
       "    .dataframe thead th {\n",
       "        text-align: right;\n",
       "    }\n",
       "</style>\n",
       "<table border=\"1\" class=\"dataframe\">\n",
       "  <thead>\n",
       "    <tr style=\"text-align: right;\">\n",
       "      <th></th>\n",
       "      <th># rsid</th>\n",
       "      <th>chromosome</th>\n",
       "      <th>position</th>\n",
       "      <th>genotype</th>\n",
       "    </tr>\n",
       "  </thead>\n",
       "  <tbody>\n",
       "    <tr>\n",
       "      <th>394851</th>\n",
       "      <td>rs12425791</td>\n",
       "      <td>12</td>\n",
       "      <td>783484</td>\n",
       "      <td>GG</td>\n",
       "    </tr>\n",
       "  </tbody>\n",
       "</table>\n",
       "</div>"
      ],
      "text/plain": [
       "            # rsid chromosome  position genotype\n",
       "394851  rs12425791         12    783484       GG"
      ]
     },
     "execution_count": 36,
     "metadata": {},
     "output_type": "execute_result"
    }
   ],
   "source": [
    "genome.loc[genome['# rsid'] == 'rs12425791']"
   ]
  },
  {
   "cell_type": "code",
   "execution_count": 37,
   "metadata": {},
   "outputs": [
    {
     "data": {
      "text/html": [
       "<div>\n",
       "<style scoped>\n",
       "    .dataframe tbody tr th:only-of-type {\n",
       "        vertical-align: middle;\n",
       "    }\n",
       "\n",
       "    .dataframe tbody tr th {\n",
       "        vertical-align: top;\n",
       "    }\n",
       "\n",
       "    .dataframe thead th {\n",
       "        text-align: right;\n",
       "    }\n",
       "</style>\n",
       "<table border=\"1\" class=\"dataframe\">\n",
       "  <thead>\n",
       "    <tr style=\"text-align: right;\">\n",
       "      <th></th>\n",
       "      <th># rsid</th>\n",
       "      <th>chromosome</th>\n",
       "      <th>position</th>\n",
       "      <th>genotype</th>\n",
       "    </tr>\n",
       "  </thead>\n",
       "  <tbody>\n",
       "    <tr>\n",
       "      <th>404412</th>\n",
       "      <td>rs12425791</td>\n",
       "      <td>12</td>\n",
       "      <td>783484</td>\n",
       "      <td>GG</td>\n",
       "    </tr>\n",
       "  </tbody>\n",
       "</table>\n",
       "</div>"
      ],
      "text/plain": [
       "            # rsid chromosome  position genotype\n",
       "404412  rs12425791         12    783484       GG"
      ]
     },
     "execution_count": 37,
     "metadata": {},
     "output_type": "execute_result"
    }
   ],
   "source": [
    "genome_d.loc[genome_d['# rsid'] == 'rs12425791']"
   ]
  },
  {
   "cell_type": "markdown",
   "metadata": {},
   "source": [
    "![asdsad](./Image/rs12425791-GG.png \"rs12425791-GG stroke\")"
   ]
  },
  {
   "cell_type": "markdown",
   "metadata": {},
   "source": [
    "- Conclussion Diseases: **2.Stroke**\n",
    "\n",
    "We can conclude both individual have normal profile concerning stroke."
   ]
  },
  {
   "cell_type": "markdown",
   "metadata": {},
   "source": [
    "**3. Chronic pulmonary disease**\n",
    "\n",
    "[SNPedia for chronic pulmonary disease](https://www.snpedia.com/index.php/Chronic_obstructive_pulmonary_disease)"
   ]
  },
  {
   "cell_type": "code",
   "execution_count": 38,
   "metadata": {},
   "outputs": [
    {
     "data": {
      "text/html": [
       "<div>\n",
       "<style scoped>\n",
       "    .dataframe tbody tr th:only-of-type {\n",
       "        vertical-align: middle;\n",
       "    }\n",
       "\n",
       "    .dataframe tbody tr th {\n",
       "        vertical-align: top;\n",
       "    }\n",
       "\n",
       "    .dataframe thead th {\n",
       "        text-align: right;\n",
       "    }\n",
       "</style>\n",
       "<table border=\"1\" class=\"dataframe\">\n",
       "  <thead>\n",
       "    <tr style=\"text-align: right;\">\n",
       "      <th></th>\n",
       "      <th># rsid</th>\n",
       "      <th>chromosome</th>\n",
       "      <th>position</th>\n",
       "      <th>genotype</th>\n",
       "    </tr>\n",
       "  </thead>\n",
       "  <tbody>\n",
       "    <tr>\n",
       "      <th>406051</th>\n",
       "      <td>rs3736309</td>\n",
       "      <td>12</td>\n",
       "      <td>50358054</td>\n",
       "      <td>GG</td>\n",
       "    </tr>\n",
       "  </tbody>\n",
       "</table>\n",
       "</div>"
      ],
      "text/plain": [
       "           # rsid chromosome  position genotype\n",
       "406051  rs3736309         12  50358054       GG"
      ]
     },
     "execution_count": 38,
     "metadata": {},
     "output_type": "execute_result"
    }
   ],
   "source": [
    "genome.loc[genome['# rsid'] == 'rs3736309']"
   ]
  },
  {
   "cell_type": "code",
   "execution_count": 39,
   "metadata": {},
   "outputs": [
    {
     "data": {
      "text/html": [
       "<div>\n",
       "<style scoped>\n",
       "    .dataframe tbody tr th:only-of-type {\n",
       "        vertical-align: middle;\n",
       "    }\n",
       "\n",
       "    .dataframe tbody tr th {\n",
       "        vertical-align: top;\n",
       "    }\n",
       "\n",
       "    .dataframe thead th {\n",
       "        text-align: right;\n",
       "    }\n",
       "</style>\n",
       "<table border=\"1\" class=\"dataframe\">\n",
       "  <thead>\n",
       "    <tr style=\"text-align: right;\">\n",
       "      <th></th>\n",
       "      <th># rsid</th>\n",
       "      <th>chromosome</th>\n",
       "      <th>position</th>\n",
       "      <th>genotype</th>\n",
       "    </tr>\n",
       "  </thead>\n",
       "  <tbody>\n",
       "    <tr>\n",
       "      <th>414016</th>\n",
       "      <td>rs3736309</td>\n",
       "      <td>12</td>\n",
       "      <td>50358054</td>\n",
       "      <td>AA</td>\n",
       "    </tr>\n",
       "  </tbody>\n",
       "</table>\n",
       "</div>"
      ],
      "text/plain": [
       "           # rsid chromosome  position genotype\n",
       "414016  rs3736309         12  50358054       AA"
      ]
     },
     "execution_count": 39,
     "metadata": {},
     "output_type": "execute_result"
    }
   ],
   "source": [
    "genome_d.loc[genome_d['# rsid'] == 'rs3736309']"
   ]
  },
  {
   "cell_type": "markdown",
   "metadata": {},
   "source": [
    "![asdsad](./Image/rs3736309-AA.png \"lung cancer\")"
   ]
  },
  {
   "cell_type": "markdown",
   "metadata": {},
   "source": [
    "- Conclussion Diseases: **3. Chronic pulmonary disease**\n",
    "\n",
    "Zeeshan-ul-hassan Usmani: Has GG present in the SNP rs3736309 which indicates 0.44X decreased risk of chronic obstructive pulmonary lung disease. \n",
    "\n",
    "Daniel Darko:  Has AA present in the SNP rs3736309 which indicates normal risk"
   ]
  },
  {
   "cell_type": "markdown",
   "metadata": {},
   "source": [
    "**4. Lower respiratory infection**\n",
    "Too complex to include in this study\n"
   ]
  },
  {
   "cell_type": "markdown",
   "metadata": {},
   "source": [
    "**5. Neonatal conditions**\n",
    "\n",
    "[SNPedia for neonatal conditions](https://www.snpedia.com/index.php?title=+Special%3ASearch&search=neonatal+conditions&go=Go)"
   ]
  },
  {
   "cell_type": "code",
   "execution_count": 40,
   "metadata": {},
   "outputs": [
    {
     "data": {
      "text/html": [
       "<div>\n",
       "<style scoped>\n",
       "    .dataframe tbody tr th:only-of-type {\n",
       "        vertical-align: middle;\n",
       "    }\n",
       "\n",
       "    .dataframe tbody tr th {\n",
       "        vertical-align: top;\n",
       "    }\n",
       "\n",
       "    .dataframe thead th {\n",
       "        text-align: right;\n",
       "    }\n",
       "</style>\n",
       "<table border=\"1\" class=\"dataframe\">\n",
       "  <thead>\n",
       "    <tr style=\"text-align: right;\">\n",
       "      <th></th>\n",
       "      <th># rsid</th>\n",
       "      <th>chromosome</th>\n",
       "      <th>position</th>\n",
       "      <th>genotype</th>\n",
       "    </tr>\n",
       "  </thead>\n",
       "  <tbody>\n",
       "    <tr>\n",
       "      <th>213615</th>\n",
       "      <td>rs1800629</td>\n",
       "      <td>6</td>\n",
       "      <td>31543031</td>\n",
       "      <td>GG</td>\n",
       "    </tr>\n",
       "  </tbody>\n",
       "</table>\n",
       "</div>"
      ],
      "text/plain": [
       "           # rsid chromosome  position genotype\n",
       "213615  rs1800629          6  31543031       GG"
      ]
     },
     "execution_count": 40,
     "metadata": {},
     "output_type": "execute_result"
    }
   ],
   "source": [
    "genome.loc[genome['# rsid'] == 'rs1800629']"
   ]
  },
  {
   "cell_type": "code",
   "execution_count": 41,
   "metadata": {},
   "outputs": [
    {
     "data": {
      "text/html": [
       "<div>\n",
       "<style scoped>\n",
       "    .dataframe tbody tr th:only-of-type {\n",
       "        vertical-align: middle;\n",
       "    }\n",
       "\n",
       "    .dataframe tbody tr th {\n",
       "        vertical-align: top;\n",
       "    }\n",
       "\n",
       "    .dataframe thead th {\n",
       "        text-align: right;\n",
       "    }\n",
       "</style>\n",
       "<table border=\"1\" class=\"dataframe\">\n",
       "  <thead>\n",
       "    <tr style=\"text-align: right;\">\n",
       "      <th></th>\n",
       "      <th># rsid</th>\n",
       "      <th>chromosome</th>\n",
       "      <th>position</th>\n",
       "      <th>genotype</th>\n",
       "    </tr>\n",
       "  </thead>\n",
       "  <tbody>\n",
       "    <tr>\n",
       "      <th>224370</th>\n",
       "      <td>rs1800629</td>\n",
       "      <td>6</td>\n",
       "      <td>31543031</td>\n",
       "      <td>AG</td>\n",
       "    </tr>\n",
       "  </tbody>\n",
       "</table>\n",
       "</div>"
      ],
      "text/plain": [
       "           # rsid chromosome  position genotype\n",
       "224370  rs1800629          6  31543031       AG"
      ]
     },
     "execution_count": 41,
     "metadata": {},
     "output_type": "execute_result"
    }
   ],
   "source": [
    "genome_d.loc[genome_d['# rsid'] == 'rs1800629']"
   ]
  },
  {
   "cell_type": "markdown",
   "metadata": {},
   "source": [
    "![asdsad](./Image/rs1800629-AG.png \"lung cancer\")"
   ]
  },
  {
   "cell_type": "markdown",
   "metadata": {},
   "source": [
    "- Conclussion Diseases: **4. Neonatal conditions**\n",
    "\n",
    "Zeeshan-ul-hassan Usmani: Has GG present in the SNP rs18005629 which indicates complex, generally normal risk. \n",
    "\n",
    "Daniel Darko:  Has AG present in the SNP rs18005629 which indicates  complex, generally higher risk of certain disesases."
   ]
  },
  {
   "cell_type": "markdown",
   "metadata": {},
   "source": [
    "**6. Trachea,bronchus, lung cancer**"
   ]
  },
  {
   "cell_type": "code",
   "execution_count": 42,
   "metadata": {},
   "outputs": [
    {
     "data": {
      "text/html": [
       "<div>\n",
       "<style scoped>\n",
       "    .dataframe tbody tr th:only-of-type {\n",
       "        vertical-align: middle;\n",
       "    }\n",
       "\n",
       "    .dataframe tbody tr th {\n",
       "        vertical-align: top;\n",
       "    }\n",
       "\n",
       "    .dataframe thead th {\n",
       "        text-align: right;\n",
       "    }\n",
       "</style>\n",
       "<table border=\"1\" class=\"dataframe\">\n",
       "  <thead>\n",
       "    <tr style=\"text-align: right;\">\n",
       "      <th></th>\n",
       "      <th># rsid</th>\n",
       "      <th>chromosome</th>\n",
       "      <th>position</th>\n",
       "      <th>genotype</th>\n",
       "    </tr>\n",
       "  </thead>\n",
       "  <tbody>\n",
       "    <tr>\n",
       "      <th>477393</th>\n",
       "      <td>rs8034191</td>\n",
       "      <td>15</td>\n",
       "      <td>78806023</td>\n",
       "      <td>TT</td>\n",
       "    </tr>\n",
       "  </tbody>\n",
       "</table>\n",
       "</div>"
      ],
      "text/plain": [
       "           # rsid chromosome  position genotype\n",
       "477393  rs8034191         15  78806023       TT"
      ]
     },
     "execution_count": 42,
     "metadata": {},
     "output_type": "execute_result"
    }
   ],
   "source": [
    "genome.loc[genome['# rsid'] == 'rs8034191']"
   ]
  },
  {
   "cell_type": "code",
   "execution_count": 43,
   "metadata": {},
   "outputs": [
    {
     "data": {
      "text/html": [
       "<div>\n",
       "<style scoped>\n",
       "    .dataframe tbody tr th:only-of-type {\n",
       "        vertical-align: middle;\n",
       "    }\n",
       "\n",
       "    .dataframe tbody tr th {\n",
       "        vertical-align: top;\n",
       "    }\n",
       "\n",
       "    .dataframe thead th {\n",
       "        text-align: right;\n",
       "    }\n",
       "</style>\n",
       "<table border=\"1\" class=\"dataframe\">\n",
       "  <thead>\n",
       "    <tr style=\"text-align: right;\">\n",
       "      <th></th>\n",
       "      <th># rsid</th>\n",
       "      <th>chromosome</th>\n",
       "      <th>position</th>\n",
       "      <th>genotype</th>\n",
       "    </tr>\n",
       "  </thead>\n",
       "  <tbody>\n",
       "    <tr>\n",
       "      <th>477654</th>\n",
       "      <td>rs8034191</td>\n",
       "      <td>15</td>\n",
       "      <td>78806023</td>\n",
       "      <td>CT</td>\n",
       "    </tr>\n",
       "  </tbody>\n",
       "</table>\n",
       "</div>"
      ],
      "text/plain": [
       "           # rsid chromosome  position genotype\n",
       "477654  rs8034191         15  78806023       CT"
      ]
     },
     "execution_count": 43,
     "metadata": {},
     "output_type": "execute_result"
    }
   ],
   "source": [
    "genome_d.loc[genome_d['# rsid'] == 'rs8034191']"
   ]
  },
  {
   "cell_type": "markdown",
   "metadata": {},
   "source": [
    "![asdsad](./Image/rs8034191-CT.png \"lung cancer\")"
   ]
  },
  {
   "cell_type": "markdown",
   "metadata": {},
   "source": [
    "- Conclussion Diseases: **5. Trachea, bronchus, lung cancer**\n",
    "\n",
    "Zeeshan-ul-hassan Usmani: Has TT present in the SNP rs8034191 which indicates normal risk of lung cancer\n",
    "\n",
    "Daniel Darko:  Has CT present in the SNP rs8034191 which indicates 1.27X of lung cancer risk"
   ]
  },
  {
   "cell_type": "markdown",
   "metadata": {},
   "source": [
    "**7. Alzheimer's disease and other dementias**\n",
    "\n",
    "[SNPedia for Alzheimer's disease](https://www.snpedia.com/index.php/Alzheimer%27s_disease)"
   ]
  },
  {
   "cell_type": "code",
   "execution_count": 44,
   "metadata": {},
   "outputs": [
    {
     "data": {
      "text/html": [
       "<div>\n",
       "<style scoped>\n",
       "    .dataframe tbody tr th:only-of-type {\n",
       "        vertical-align: middle;\n",
       "    }\n",
       "\n",
       "    .dataframe tbody tr th {\n",
       "        vertical-align: top;\n",
       "    }\n",
       "\n",
       "    .dataframe thead th {\n",
       "        text-align: right;\n",
       "    }\n",
       "</style>\n",
       "<table border=\"1\" class=\"dataframe\">\n",
       "  <thead>\n",
       "    <tr style=\"text-align: right;\">\n",
       "      <th></th>\n",
       "      <th># rsid</th>\n",
       "      <th>chromosome</th>\n",
       "      <th>position</th>\n",
       "      <th>genotype</th>\n",
       "    </tr>\n",
       "  </thead>\n",
       "  <tbody>\n",
       "    <tr>\n",
       "      <th>548964</th>\n",
       "      <td>rs7412</td>\n",
       "      <td>19</td>\n",
       "      <td>45412079</td>\n",
       "      <td>CC</td>\n",
       "    </tr>\n",
       "  </tbody>\n",
       "</table>\n",
       "</div>"
      ],
      "text/plain": [
       "        # rsid chromosome  position genotype\n",
       "548964  rs7412         19  45412079       CC"
      ]
     },
     "execution_count": 44,
     "metadata": {},
     "output_type": "execute_result"
    }
   ],
   "source": [
    "genome.loc[genome['# rsid'] == 'rs7412']"
   ]
  },
  {
   "cell_type": "code",
   "execution_count": 45,
   "metadata": {},
   "outputs": [
    {
     "data": {
      "text/html": [
       "<div>\n",
       "<style scoped>\n",
       "    .dataframe tbody tr th:only-of-type {\n",
       "        vertical-align: middle;\n",
       "    }\n",
       "\n",
       "    .dataframe tbody tr th {\n",
       "        vertical-align: top;\n",
       "    }\n",
       "\n",
       "    .dataframe thead th {\n",
       "        text-align: right;\n",
       "    }\n",
       "</style>\n",
       "<table border=\"1\" class=\"dataframe\">\n",
       "  <thead>\n",
       "    <tr style=\"text-align: right;\">\n",
       "      <th></th>\n",
       "      <th># rsid</th>\n",
       "      <th>chromosome</th>\n",
       "      <th>position</th>\n",
       "      <th>genotype</th>\n",
       "    </tr>\n",
       "  </thead>\n",
       "  <tbody>\n",
       "    <tr>\n",
       "      <th>542792</th>\n",
       "      <td>rs7412</td>\n",
       "      <td>19</td>\n",
       "      <td>45412079</td>\n",
       "      <td>CC</td>\n",
       "    </tr>\n",
       "  </tbody>\n",
       "</table>\n",
       "</div>"
      ],
      "text/plain": [
       "        # rsid chromosome  position genotype\n",
       "542792  rs7412         19  45412079       CC"
      ]
     },
     "execution_count": 45,
     "metadata": {},
     "output_type": "execute_result"
    }
   ],
   "source": [
    "genome_d.loc[genome_d['# rsid'] == 'rs7412']"
   ]
  },
  {
   "cell_type": "markdown",
   "metadata": {},
   "source": [
    "![asdsad](./Image/alzheimer.png \"lung cancer\")"
   ]
  },
  {
   "cell_type": "code",
   "execution_count": 46,
   "metadata": {},
   "outputs": [
    {
     "data": {
      "text/html": [
       "<div>\n",
       "<style scoped>\n",
       "    .dataframe tbody tr th:only-of-type {\n",
       "        vertical-align: middle;\n",
       "    }\n",
       "\n",
       "    .dataframe tbody tr th {\n",
       "        vertical-align: top;\n",
       "    }\n",
       "\n",
       "    .dataframe thead th {\n",
       "        text-align: right;\n",
       "    }\n",
       "</style>\n",
       "<table border=\"1\" class=\"dataframe\">\n",
       "  <thead>\n",
       "    <tr style=\"text-align: right;\">\n",
       "      <th></th>\n",
       "      <th># rsid</th>\n",
       "      <th>chromosome</th>\n",
       "      <th>position</th>\n",
       "      <th>genotype</th>\n",
       "    </tr>\n",
       "  </thead>\n",
       "  <tbody>\n",
       "    <tr>\n",
       "      <th>541716</th>\n",
       "      <td>rs145999145</td>\n",
       "      <td>19</td>\n",
       "      <td>40877595</td>\n",
       "      <td>GG</td>\n",
       "    </tr>\n",
       "  </tbody>\n",
       "</table>\n",
       "</div>"
      ],
      "text/plain": [
       "             # rsid chromosome  position genotype\n",
       "541716  rs145999145         19  40877595       GG"
      ]
     },
     "execution_count": 46,
     "metadata": {},
     "output_type": "execute_result"
    }
   ],
   "source": [
    "genome_d.loc[genome_d['# rsid'] == 'rs145999145']"
   ]
  },
  {
   "cell_type": "markdown",
   "metadata": {},
   "source": [
    "![asdsad](./Image/alz.png \"lung cancer\")"
   ]
  },
  {
   "cell_type": "markdown",
   "metadata": {},
   "source": [
    "- Conclussion Diseases: **6. Alzheimer'ss Disease**\n",
    "\n",
    "Zeeshan-ul-hassan Usmani: Does not seem to indicate elevated Alzheimer's risk from just looking at these 2 SNPs.\n",
    "\n",
    "Daniel Darko:  Has GG present in the SNP which indicates normal  Alzheimer's risk "
   ]
  },
  {
   "cell_type": "markdown",
   "metadata": {},
   "source": [
    "**8. Diarrhoeal diseases**\n",
    "\n",
    "No genetic information on this type of disease was found"
   ]
  },
  {
   "cell_type": "markdown",
   "metadata": {},
   "source": [
    "**9. Diabetes mellitus**\n",
    "\n",
    "[SNPedia for Diabetes mellitus](https://www.snpedia.com/index.php/Diabetes_Mellitus)\n",
    "\n",
    "I will be analyzing Diabetes type 2"
   ]
  },
  {
   "cell_type": "code",
   "execution_count": 47,
   "metadata": {},
   "outputs": [
    {
     "data": {
      "text/html": [
       "<div>\n",
       "<style scoped>\n",
       "    .dataframe tbody tr th:only-of-type {\n",
       "        vertical-align: middle;\n",
       "    }\n",
       "\n",
       "    .dataframe tbody tr th {\n",
       "        vertical-align: top;\n",
       "    }\n",
       "\n",
       "    .dataframe thead th {\n",
       "        text-align: right;\n",
       "    }\n",
       "</style>\n",
       "<table border=\"1\" class=\"dataframe\">\n",
       "  <thead>\n",
       "    <tr style=\"text-align: right;\">\n",
       "      <th></th>\n",
       "      <th># rsid</th>\n",
       "      <th>chromosome</th>\n",
       "      <th>position</th>\n",
       "      <th>genotype</th>\n",
       "    </tr>\n",
       "  </thead>\n",
       "  <tbody>\n",
       "    <tr>\n",
       "      <th>130906</th>\n",
       "      <td>rs1470579</td>\n",
       "      <td>3</td>\n",
       "      <td>185529080</td>\n",
       "      <td>AC</td>\n",
       "    </tr>\n",
       "  </tbody>\n",
       "</table>\n",
       "</div>"
      ],
      "text/plain": [
       "           # rsid chromosome   position genotype\n",
       "130906  rs1470579          3  185529080       AC"
      ]
     },
     "execution_count": 47,
     "metadata": {},
     "output_type": "execute_result"
    }
   ],
   "source": [
    "genome.loc[genome['# rsid'] == 'rs1470579']"
   ]
  },
  {
   "cell_type": "code",
   "execution_count": 48,
   "metadata": {},
   "outputs": [
    {
     "data": {
      "text/html": [
       "<div>\n",
       "<style scoped>\n",
       "    .dataframe tbody tr th:only-of-type {\n",
       "        vertical-align: middle;\n",
       "    }\n",
       "\n",
       "    .dataframe tbody tr th {\n",
       "        vertical-align: top;\n",
       "    }\n",
       "\n",
       "    .dataframe thead th {\n",
       "        text-align: right;\n",
       "    }\n",
       "</style>\n",
       "<table border=\"1\" class=\"dataframe\">\n",
       "  <thead>\n",
       "    <tr style=\"text-align: right;\">\n",
       "      <th></th>\n",
       "      <th># rsid</th>\n",
       "      <th>chromosome</th>\n",
       "      <th>position</th>\n",
       "      <th>genotype</th>\n",
       "    </tr>\n",
       "  </thead>\n",
       "  <tbody>\n",
       "    <tr>\n",
       "      <th>130697</th>\n",
       "      <td>rs1470579</td>\n",
       "      <td>3</td>\n",
       "      <td>185529080</td>\n",
       "      <td>CC</td>\n",
       "    </tr>\n",
       "  </tbody>\n",
       "</table>\n",
       "</div>"
      ],
      "text/plain": [
       "           # rsid chromosome   position genotype\n",
       "130697  rs1470579          3  185529080       CC"
      ]
     },
     "execution_count": 48,
     "metadata": {},
     "output_type": "execute_result"
    }
   ],
   "source": [
    "genome_d.loc[genome_d['# rsid'] == 'rs1470579']"
   ]
  },
  {
   "cell_type": "markdown",
   "metadata": {},
   "source": [
    "![asdsad](./Image/diabetes.png \"lung cancer\")"
   ]
  },
  {
   "cell_type": "markdown",
   "metadata": {},
   "source": [
    "- Conclussion Diseases: **8. Diabetes type 2**\n",
    "\n",
    "Zeeshan-ul-hassan Usmani: Has 1.2x increased risk for type 2 diabetes\n",
    "\n",
    "Daniel Darko:  Has increased 1.2x increased risk for type 2 diabetes"
   ]
  },
  {
   "cell_type": "markdown",
   "metadata": {},
   "source": [
    "**10. Kidney diseases**\n",
    "\n",
    "[SNpedia for kidney disease](https://www.snpedia.com/index.php/Rs4293393)"
   ]
  },
  {
   "cell_type": "code",
   "execution_count": 49,
   "metadata": {},
   "outputs": [
    {
     "data": {
      "text/html": [
       "<div>\n",
       "<style scoped>\n",
       "    .dataframe tbody tr th:only-of-type {\n",
       "        vertical-align: middle;\n",
       "    }\n",
       "\n",
       "    .dataframe tbody tr th {\n",
       "        vertical-align: top;\n",
       "    }\n",
       "\n",
       "    .dataframe thead th {\n",
       "        text-align: right;\n",
       "    }\n",
       "</style>\n",
       "<table border=\"1\" class=\"dataframe\">\n",
       "  <thead>\n",
       "    <tr style=\"text-align: right;\">\n",
       "      <th></th>\n",
       "      <th># rsid</th>\n",
       "      <th>chromosome</th>\n",
       "      <th>position</th>\n",
       "      <th>genotype</th>\n",
       "    </tr>\n",
       "  </thead>\n",
       "  <tbody>\n",
       "    <tr>\n",
       "      <th>147883</th>\n",
       "      <td>rs17319721</td>\n",
       "      <td>4</td>\n",
       "      <td>77368847</td>\n",
       "      <td>GG</td>\n",
       "    </tr>\n",
       "  </tbody>\n",
       "</table>\n",
       "</div>"
      ],
      "text/plain": [
       "            # rsid chromosome  position genotype\n",
       "147883  rs17319721          4  77368847       GG"
      ]
     },
     "execution_count": 49,
     "metadata": {},
     "output_type": "execute_result"
    }
   ],
   "source": [
    "genome.loc[genome['# rsid'] == 'rs17319721']"
   ]
  },
  {
   "cell_type": "code",
   "execution_count": 50,
   "metadata": {},
   "outputs": [
    {
     "data": {
      "text/html": [
       "<div>\n",
       "<style scoped>\n",
       "    .dataframe tbody tr th:only-of-type {\n",
       "        vertical-align: middle;\n",
       "    }\n",
       "\n",
       "    .dataframe tbody tr th {\n",
       "        vertical-align: top;\n",
       "    }\n",
       "\n",
       "    .dataframe thead th {\n",
       "        text-align: right;\n",
       "    }\n",
       "</style>\n",
       "<table border=\"1\" class=\"dataframe\">\n",
       "  <thead>\n",
       "    <tr style=\"text-align: right;\">\n",
       "      <th></th>\n",
       "      <th># rsid</th>\n",
       "      <th>chromosome</th>\n",
       "      <th>position</th>\n",
       "      <th>genotype</th>\n",
       "    </tr>\n",
       "  </thead>\n",
       "  <tbody>\n",
       "    <tr>\n",
       "      <th>150822</th>\n",
       "      <td>rs17319721</td>\n",
       "      <td>4</td>\n",
       "      <td>77368847</td>\n",
       "      <td>GG</td>\n",
       "    </tr>\n",
       "  </tbody>\n",
       "</table>\n",
       "</div>"
      ],
      "text/plain": [
       "            # rsid chromosome  position genotype\n",
       "150822  rs17319721          4  77368847       GG"
      ]
     },
     "execution_count": 50,
     "metadata": {},
     "output_type": "execute_result"
    }
   ],
   "source": [
    "genome_d.loc[genome_d['# rsid'] == 'rs17319721']"
   ]
  },
  {
   "cell_type": "markdown",
   "metadata": {},
   "source": [
    "![asdsad](./Image/kidney.png \"lung cancer\")"
   ]
  },
  {
   "cell_type": "markdown",
   "metadata": {},
   "source": [
    "- Conclussion Diseases: **9. Kidney chornic disease**\n",
    "\n",
    "Normal risk for both individuals"
   ]
  },
  {
   "cell_type": "code",
   "execution_count": 51,
   "metadata": {},
   "outputs": [],
   "source": [
    "#!export PATH=/Library/TeX/texbin:$PATH"
   ]
  },
  {
   "cell_type": "code",
   "execution_count": 52,
   "metadata": {},
   "outputs": [],
   "source": [
    "#!jupyter nbconvert GenomeAnalysis.ipynb --to pdf"
   ]
  },
  {
   "cell_type": "code",
   "execution_count": null,
   "metadata": {},
   "outputs": [],
   "source": []
  }
 ],
 "metadata": {
  "kernelspec": {
   "display_name": "Python 3",
   "language": "python",
   "name": "python3"
  },
  "language_info": {
   "codemirror_mode": {
    "name": "ipython",
    "version": 3
   },
   "file_extension": ".py",
   "mimetype": "text/x-python",
   "name": "python",
   "nbconvert_exporter": "python",
   "pygments_lexer": "ipython3",
   "version": "3.8.3"
  }
 },
 "nbformat": 4,
 "nbformat_minor": 4
}
